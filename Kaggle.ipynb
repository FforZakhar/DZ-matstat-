{
  "nbformat": 4,
  "nbformat_minor": 0,
  "metadata": {
    "colab": {
      "name": "Kaggle.ipynb",
      "provenance": [],
      "include_colab_link": true
    },
    "kernelspec": {
      "name": "python3",
      "display_name": "Python 3"
    },
    "language_info": {
      "name": "python"
    }
  },
  "cells": [
    {
      "cell_type": "markdown",
      "metadata": {
        "id": "view-in-github",
        "colab_type": "text"
      },
      "source": [
        "<a href=\"https://colab.research.google.com/github/FforZakhar/DZ-matstat-/blob/main/Kaggle.ipynb\" target=\"_parent\"><img src=\"https://colab.research.google.com/assets/colab-badge.svg\" alt=\"Open In Colab\"/></a>"
      ]
    },
    {
      "cell_type": "code",
      "metadata": {
        "id": "NIdEvNXV5lUv"
      },
      "source": [
        "import numpy as np\n",
        "import pandas as pd\n",
        "import json\n",
        "import nltk.stem\n",
        "import string\n",
        "from nltk.corpus import stopwords\n",
        "import re\n",
        "\n",
        "pd.options.mode.chained_assignment = None # Fuck warnings"
      ],
      "execution_count": null,
      "outputs": []
    },
    {
      "cell_type": "code",
      "metadata": {
        "colab": {
          "base_uri": "https://localhost:8080/"
        },
        "id": "V0VK2ds75mhr",
        "outputId": "2974f66d-fe50-48fd-d21c-b680143a8203"
      },
      "source": [
        "from google.colab import drive\n",
        "drive.mount('/content/drive')"
      ],
      "execution_count": null,
      "outputs": [
        {
          "output_type": "stream",
          "text": [
            "Mounted at /content/drive\n"
          ],
          "name": "stdout"
        }
      ]
    },
    {
      "cell_type": "code",
      "metadata": {
        "id": "B3Ywqh_y51Oi"
      },
      "source": [
        "df = pd.read_csv('/content/drive/MyDrive/Kaggle case/train.csv')"
      ],
      "execution_count": null,
      "outputs": []
    },
    {
      "cell_type": "markdown",
      "metadata": {
        "id": "Q-gr7ZfRxOI_"
      },
      "source": [
        "# Checking out"
      ]
    },
    {
      "cell_type": "code",
      "metadata": {
        "colab": {
          "base_uri": "https://localhost:8080/"
        },
        "id": "HiiBVHwZkuj8",
        "outputId": "485a37dd-f084-4d78-f172-9aba38b4b017"
      },
      "source": [
        "df.iloc[19655]"
      ],
      "execution_count": null,
      "outputs": [
        {
          "output_type": "execute_result",
          "data": {
            "text/plain": [
              "Id                            922a5f2c-2d1c-46a7-a07a-acaf2222c0c6\n",
              "pub_title        3D U-Net for segmentation of COVID-19 associat...\n",
              "dataset_title    RSNA International COVID-19 Open Radiology Dat...\n",
              "dataset_label    RSNA International COVID-19 Open Radiology Dat...\n",
              "cleaned_label    rsna international covid 19 open radiology dat...\n",
              "Name: 19655, dtype: object"
            ]
          },
          "metadata": {
            "tags": []
          },
          "execution_count": 47
        }
      ]
    },
    {
      "cell_type": "code",
      "metadata": {
        "colab": {
          "base_uri": "https://localhost:8080/"
        },
        "id": "NCfwRpFInk1K",
        "outputId": "1d17fe0f-c7be-4b99-fd60-5a5dd88df764"
      },
      "source": [
        "df.iloc[-1] == df.iloc[-2]"
      ],
      "execution_count": null,
      "outputs": [
        {
          "output_type": "execute_result",
          "data": {
            "text/plain": [
              "Id                True\n",
              "pub_title         True\n",
              "dataset_title     True\n",
              "dataset_label    False\n",
              "cleaned_label    False\n",
              "dtype: bool"
            ]
          },
          "metadata": {
            "tags": []
          },
          "execution_count": 48
        }
      ]
    },
    {
      "cell_type": "code",
      "metadata": {
        "colab": {
          "base_uri": "https://localhost:8080/"
        },
        "id": "uIdeuZ9_nmX_",
        "outputId": "fbba16e1-9d84-46b4-b6d1-4497e9a6024f"
      },
      "source": [
        "df.iloc[-2].dataset_label"
      ],
      "execution_count": null,
      "outputs": [
        {
          "output_type": "execute_result",
          "data": {
            "application/vnd.google.colaboratory.intrinsic+json": {
              "type": "string"
            },
            "text/plain": [
              "'CAS COVID-19 antiviral candidate compounds data set'"
            ]
          },
          "metadata": {
            "tags": []
          },
          "execution_count": 49
        }
      ]
    },
    {
      "cell_type": "code",
      "metadata": {
        "colab": {
          "base_uri": "https://localhost:8080/"
        },
        "id": "pAS7q4A5n6Qm",
        "outputId": "1f0800c9-d361-4dd0-d3bc-2c506e2a610f"
      },
      "source": [
        "df.iloc[-1].dataset_label"
      ],
      "execution_count": null,
      "outputs": [
        {
          "output_type": "execute_result",
          "data": {
            "application/vnd.google.colaboratory.intrinsic+json": {
              "type": "string"
            },
            "text/plain": [
              "'CAS COVID-19 antiviral candidate compounds data'"
            ]
          },
          "metadata": {
            "tags": []
          },
          "execution_count": 50
        }
      ]
    },
    {
      "cell_type": "code",
      "metadata": {
        "colab": {
          "base_uri": "https://localhost:8080/"
        },
        "id": "G6bdj_HGo6O_",
        "outputId": "22414451-9f7a-4a40-9da7-040351cb8089"
      },
      "source": [
        "df.columns"
      ],
      "execution_count": null,
      "outputs": [
        {
          "output_type": "execute_result",
          "data": {
            "text/plain": [
              "Index(['Id', 'pub_title', 'dataset_title', 'dataset_label', 'cleaned_label'], dtype='object')"
            ]
          },
          "metadata": {
            "tags": []
          },
          "execution_count": 51
        }
      ]
    },
    {
      "cell_type": "code",
      "metadata": {
        "colab": {
          "base_uri": "https://localhost:8080/"
        },
        "id": "UvGjPkToo8i1",
        "outputId": "d7d77858-499b-413b-bb11-edce83e01368"
      },
      "source": [
        "df.Id"
      ],
      "execution_count": null,
      "outputs": [
        {
          "output_type": "execute_result",
          "data": {
            "text/plain": [
              "0        d0fa7568-7d8e-4db9-870f-f9c6f668c17b\n",
              "1        2f26f645-3dec-485d-b68d-f013c9e05e60\n",
              "2        c5d5cd2c-59de-4f29-bbb1-6a88c7b52f29\n",
              "3        5c9a3bc9-41ba-4574-ad71-e25c1442c8af\n",
              "4        c754dec7-c5a3-4337-9892-c02158475064\n",
              "                         ...                 \n",
              "19656    b3498176-8832-4033-aea6-b5ea85ea04c4\n",
              "19657    f77eb51f-c3ac-420b-9586-cb187849c321\n",
              "19658    ab59bcdd-7b7c-4107-93f5-0ccaf749236c\n",
              "19659    fd23e7e0-a5d2-4f98-992d-9209c85153bb\n",
              "19660    fd23e7e0-a5d2-4f98-992d-9209c85153bb\n",
              "Name: Id, Length: 19661, dtype: object"
            ]
          },
          "metadata": {
            "tags": []
          },
          "execution_count": 52
        }
      ]
    },
    {
      "cell_type": "markdown",
      "metadata": {
        "id": "Vxf2uh7FpRiK"
      },
      "source": [
        "# Useful functions"
      ]
    },
    {
      "cell_type": "code",
      "metadata": {
        "id": "Rap15hZOotrx"
      },
      "source": [
        "# Getting info from the publication json\n",
        "\n",
        "def getPublData(id):\n",
        "  with open(f'/content/drive/MyDrive/Kaggle case/train/{id}.json', 'r') as f:\n",
        "    raw_data = json.load(f)\n",
        "  \n",
        "  data = [(part[\"section_title\"], part['text']) for part in raw_data] # New data format is list of tuples: (section_name, section_text)\n",
        "  # for part in raw_data:\n",
        "  #   data.append((part[\"section_title\"], part['text']))\n",
        "  \n",
        "  return data"
      ],
      "execution_count": null,
      "outputs": []
    },
    {
      "cell_type": "code",
      "metadata": {
        "id": "uOZdlFCwBNr_"
      },
      "source": [
        "# Defining stem\n",
        "\n",
        "my_stem = nltk.stem.SnowballStemmer('english') # Maybe it`s not the best choice[*]\n",
        "\n",
        "def stemSentence(sentence):\n",
        "    new_sentence = ''\n",
        "\n",
        "    for word in sentence.split():\n",
        "        new_sentence += my_stem.stem(word) + ' '\n",
        "    \n",
        "    return new_sentence[:-1]"
      ],
      "execution_count": null,
      "outputs": []
    },
    {
      "cell_type": "code",
      "metadata": {
        "id": "Zwfykp9WEdlF"
      },
      "source": [
        "# Deleting stop words function. If it`s useful could be merged with previous one\n",
        "# But initially it`s necessary to check that there aren`t words from data sets title in stopwords [*]\n",
        "\n",
        "def deleteStopWords(sentence):\n",
        "    res = ''\n",
        "    \n",
        "    for word in sentence.split():\n",
        "        if word not in stopwords.words('english'):\n",
        "            res += word + ' '\n",
        "    \n",
        "    return res[:-1]"
      ],
      "execution_count": null,
      "outputs": []
    },
    {
      "cell_type": "code",
      "metadata": {
        "id": "ql-SrQg9Af0e"
      },
      "source": [
        "# Agregate text editting function\n",
        "\n",
        "def editText(text):\n",
        "  text = ''.join([char.lower() for char in text if char not in string.punctuation])\n",
        "  text = stemSentence(text)\n",
        "  text = deleteStopWords(text)\n",
        "  return text"
      ],
      "execution_count": null,
      "outputs": []
    },
    {
      "cell_type": "code",
      "metadata": {
        "id": "n2Cngxs8FivO"
      },
      "source": [
        "# Func editing publdata structures\n",
        "\n",
        "def editPubldata(publdata):\n",
        "  return tuple([(editText(datum[0]), editText(datum[1])) for datum in publdata])"
      ],
      "execution_count": null,
      "outputs": []
    },
    {
      "cell_type": "code",
      "metadata": {
        "id": "ZQu4m_n494xI"
      },
      "source": [
        "# Some code from stackoverflow allowing to multiprocess pandas apply function\n",
        "# https://stackoverflow.com/questions/26784164/pandas-multiprocessing-apply\n",
        "\n",
        "from multiprocessing import  Pool\n",
        "from functools import partial\n",
        "\n",
        "\n",
        "def parallelize(data, func, num_of_processes=8):\n",
        "    data_split = np.array_split(data, num_of_processes)\n",
        "    pool = Pool(num_of_processes)\n",
        "    data = pd.concat(pool.map(func, data_split))\n",
        "    pool.close()\n",
        "    pool.join()\n",
        "    return data\n",
        "\n",
        "def run_on_subset(func, data_subset):\n",
        "    return data_subset.apply(func)\n",
        "\n",
        "def parallelize_on_rows(data, func, num_of_processes=8):\n",
        "    return parallelize(data, partial(run_on_subset, func), num_of_processes)"
      ],
      "execution_count": null,
      "outputs": []
    },
    {
      "cell_type": "code",
      "metadata": {
        "id": "58ajUIZ9WUoo"
      },
      "source": [
        "# Official text cleaning function\n",
        "\n",
        "import regex as re\n",
        "\n",
        "\n",
        "def clean_text(txt):\n",
        "    return re.sub('[^A-Za-z0-9]+', ' ', str(txt).lower())"
      ],
      "execution_count": null,
      "outputs": []
    },
    {
      "cell_type": "markdown",
      "metadata": {
        "id": "VAmbjwdHpG5u"
      },
      "source": [
        "# Preprocessing"
      ]
    },
    {
      "cell_type": "code",
      "metadata": {
        "id": "eZwJKzxEpQce"
      },
      "source": [
        "df = df.rename(columns={'Id': 'id'})  # Lowercase the columns names"
      ],
      "execution_count": null,
      "outputs": []
    },
    {
      "cell_type": "code",
      "metadata": {
        "id": "7UF0NUflweA9"
      },
      "source": [
        "# Creating new column with publication text data\n",
        "\n",
        "df['publdata'] = parallelize_on_rows(df.id, getPublData, num_of_processes=256)"
      ],
      "execution_count": null,
      "outputs": []
    },
    {
      "cell_type": "code",
      "metadata": {
        "id": "XE2cxZ8sAKwq"
      },
      "source": [
        "# Editting text in publdata\n",
        "\n",
        "df['fixed_publdata'] = parallelize_on_rows(df.publdata, editPubldata, num_of_processes=256)"
      ],
      "execution_count": null,
      "outputs": []
    },
    {
      "cell_type": "code",
      "metadata": {
        "id": "PaOPLbQ7yDf0"
      },
      "source": [
        "# It should be deleted in final version\n",
        "# Saving preprocessed dataset\n",
        "\n",
        "df.to_json('/content/drive/MyDrive/Kaggle case/preprocessed_dataset.json')"
      ],
      "execution_count": null,
      "outputs": []
    },
    {
      "cell_type": "code",
      "metadata": {
        "id": "5cDaWBgfyRo0"
      },
      "source": [
        "# It should be deleted in final version\n",
        "# Loading preprocessed dataset\n",
        "\n",
        "df = pd.read_json('/content/drive/MyDrive/Kaggle case/preprocessed_dataset.json')"
      ],
      "execution_count": null,
      "outputs": []
    },
    {
      "cell_type": "markdown",
      "metadata": {
        "id": "yKkCQ8tRjb8x"
      },
      "source": [
        "# Data analysis"
      ]
    },
    {
      "cell_type": "code",
      "metadata": {
        "id": "Wytn_QXojhR0"
      },
      "source": [
        "def getContext(key_words, text):\n",
        "  result = []\n",
        "  text_len = len(text)\n",
        "  key_words_len = len(key_words)\n",
        "\n",
        "  i = text.find(key_words)\n",
        "  while i != -1:\n",
        "    start = i - 50\n",
        "    end = i + key_words_len + 51\n",
        "\n",
        "    if start < 0:\n",
        "      start = 0\n",
        "    if end > text_len:\n",
        "      end = text_len\n",
        "    words_to_append = text[start:end]\n",
        "    words_to_append = words_to_append.replace(key_words, ' ')\n",
        "    result.append((words_to_append.split()))\n",
        "\n",
        "    text = text[i+1:]\n",
        "    i = text.find(key_words)\n",
        "  \n",
        "  return result"
      ],
      "execution_count": null,
      "outputs": []
    },
    {
      "cell_type": "code",
      "metadata": {
        "colab": {
          "base_uri": "https://localhost:8080/",
          "height": 137
        },
        "id": "U98lFFyvtKCz",
        "outputId": "2b00417a-cb17-457b-a9c1-9096a74f01bd"
      },
      "source": [
        "df.iloc[0].new_publdata.split(',')[1][2:-2]"
      ],
      "execution_count": null,
      "outputs": [
        {
          "output_type": "execute_result",
          "data": {
            "application/vnd.google.colaboratory.intrinsic+json": {
              "type": "string"
            },
            "text/plain": [
              "'this studi use data from the nation educ longitudin studi nels88 to examin the effect of dual enrol program for high school student on colleg degre attain the studi also report whether the impact of dual enrol program were differ for first generat colleg student versus student whose parent had attend at least some colleg in addit a supplement analysi report on the impact of differ amount of dual enrol coursetak and colleg degre attain dual enrol program offer collegelevel learn experi for high school student the program offer colleg cours andor the opportun to earn colleg credit for student while still in high school the intervent group in the studi was compris of nel particip who attend a postsecondari school and who particip in a dual enrol program while in high school n 880 the studi author use propens score match method to creat a comparison group of nel particip who also attend a postsecondari school but who did not particip in a dual enrol program in high school n 7920'"
            ]
          },
          "metadata": {
            "tags": []
          },
          "execution_count": 38
        }
      ]
    }
  ]
}